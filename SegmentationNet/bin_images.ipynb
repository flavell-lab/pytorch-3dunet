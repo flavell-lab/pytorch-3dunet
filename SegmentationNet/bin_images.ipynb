{
 "cells": [
  {
   "cell_type": "markdown",
   "metadata": {},
   "source": [
    "# Fix binning, padding, and cropping of various datasets\n",
    "\n",
    "You should not need to interact with this code directly, but in case you need to deal with images with unusual voxel sizes, this code will help you rebin, pad, and crop them as necessary. This may become relevant for trying to use other labs' data in the Segmentation Net.\n",
    "\n",
    "The original images 15-19 had unusual voxel sizes, with initial labels generated post-cropping. To change the crop size, we need to rebin the images and then un-crop the labels.\n",
    "\n",
    "Additionally, original images 23 and 29 were transposed. They need to be padded in the y-dimension to update the crop size to a larger value."
   ]
  },
  {
   "cell_type": "code",
   "execution_count": null,
   "metadata": {
    "vscode": {
     "languageId": "julia"
    }
   },
   "outputs": [],
   "source": [
    "crop_dict_orig = Dict(\n",
    "    15 => [100:419, 210:353, 85:224],\n",
    "    16 => [51:370, 108:251, 55:194],\n",
    "    17 => [30:349, 220:363, 21:160],\n",
    "    18 => [212:355, 189:508, 56:195],\n",
    "    19 => [175:318, 125:444, 34:173],\n",
    "    20 => [195:338, 135:454, 1:77],\n",
    "    21 => [175:318, 135:454, 1:77],\n",
    "    22 => [185:328, 135:454, 1:77],\n",
    "    23 => [100:195, 1:210, 32:82],\n",
    "    24 => [61:270, 70:165, 21:71],\n",
    "    25 => [61:270, 60:155, 34:84],\n",
    "    26 => [51:260, 40:135, 28:78],\n",
    "    27 => [51:260, 40:135, 36:86],\n",
    "    28 => [51:260, 55:150, 40:90],\n",
    "    29 => [105:200, 1:210, 40:90]\n",
    "); # original crop size parameters for all datasets"
   ]
  },
  {
   "cell_type": "code",
   "execution_count": null,
   "metadata": {
    "vscode": {
     "languageId": "julia"
    }
   },
   "outputs": [],
   "source": [
    "new_crop_dict = Dict(); # new crop sizes"
   ]
  },
  {
   "cell_type": "code",
   "execution_count": null,
   "metadata": {
    "vscode": {
     "languageId": "julia"
    }
   },
   "outputs": [],
   "source": [
    "input_label_dir = \"label_cropped\" # subpath containing labels\n",
    "input_raw_dir = \"img_uncropped\" # subpath containing images\n",
    "\n",
    "output_img_dir = joinpath(rootpath, \"img_binned_uncropped\")\n",
    "output_label_dir = joinpath(rootpath, \"NEW_label_uncropped\");"
   ]
  },
  {
   "cell_type": "markdown",
   "metadata": {},
   "source": [
    "### Bin images 15-19 and uncrop their labels"
   ]
  },
  {
   "cell_type": "code",
   "execution_count": null,
   "metadata": {
    "vscode": {
     "languageId": "julia"
    }
   },
   "outputs": [],
   "source": [
    "for i in 15:19\n",
    "    mhd_img = MHD(joinpath(rootpath, input_raw_dir, \"$(i)_img.mhd\"))\n",
    "    img = MHDIO.read_img(mhd_img) # UNBINNED, UNCROPPED image\n",
    "\n",
    "    nrrd_label = NRRD(joinpath(rootpath, input_label_dir, \"$(i)_label.nrrd\"))\n",
    "    label = NRRDIO.read_img(nrrd_label) # BINNED, CROPPED label\n",
    "\n",
    "    # only the LABEL will be (un-)transposed\n",
    "    if i in 18:19\n",
    "        label = permutedims(label, [2,1,3])\n",
    "    end\n",
    "    \n",
    "    bin_scale = [1.5,1.5,2.7]\n",
    "    crop = crop_dict_orig[i]\n",
    "\n",
    "\n",
    "    # starting points of crop on the new image\n",
    "    new_crop = [1,1,1]\n",
    "    for j=1:3\n",
    "        is_int = false\n",
    "        while !is_int\n",
    "            resampled_crop = (crop[j][1]-new_crop[j])/bin_scale[j]+1 # starting point of crop\n",
    "            if resampled_crop == floor(resampled_crop) # check if int\n",
    "                is_int = true\n",
    "            else\n",
    "                new_crop[j] += 1\n",
    "            end\n",
    "        end\n",
    "    end\n",
    "\n",
    "    new_crop_dict[i] = new_crop\n",
    "\n",
    "    img = img[new_crop[1]:end, new_crop[2]:end, new_crop[3]:end]; # crop image to ensure integer binning offset\n",
    "\n",
    "    resampled_img = resample_img(img, bin_scale) # resample image to match label size\n",
    "\n",
    "    label_uncropped = zeros(size(resampled_img))\n",
    "\n",
    "    # Extract start and end indices from crop\n",
    "    crop_start = [first(crop[j]) for j in 1:3]\n",
    "    crop_end = [last(crop[j]) for j in 1:3]\n",
    "\n",
    "    # Calculate the corresponding uncropped region in the resampled image\n",
    "    label_uncropped_start = Int.((crop_start .- new_crop) ./ bin_scale .+ 1)\n",
    "    label_uncropped_end = label_uncropped_start .+ Int.(floor.((crop_end .- crop_start .+ 1) ./ bin_scale)) .- 1\n",
    "\n",
    "    # Initialize the uncropped label matrix with the size of the resampled image\n",
    "    label_uncropped = zeros(size(resampled_img))\n",
    "\n",
    "    # Place the cropped label into the correct uncropped position\n",
    "    label_uncropped[label_uncropped_start[1]:label_uncropped_end[1], \n",
    "                label_uncropped_start[2]:label_uncropped_end[2], \n",
    "                label_uncropped_start[3]:label_uncropped_end[3]] .= label\n",
    "\n",
    "    # Save the resampled image and the uncropped label\n",
    "    MHDIO.write_raw(joinpath(output_img_dir, \"$(i)_img.raw\"), resampled_img)\n",
    "    MHDIO.write_MHD_spec(joinpath(output_img_dir, \"$(i)_img.mhd\"), 0.54, 0.54, size(resampled_img)..., \"$(i)_img.raw\")\n",
    "    NRRDIO.write_nrrd(joinpath(output_label_dir, \"$(i)_label.nrrd\"), label_uncropped, (0.54, 0.54, 0.54))\n",
    "end\n"
   ]
  },
  {
   "cell_type": "code",
   "execution_count": null,
   "metadata": {
    "vscode": {
     "languageId": "julia"
    }
   },
   "outputs": [],
   "source": [
    "resampled_crop_dict = Dict()\n",
    "\n",
    "for i=15:19\n",
    "    crop = crop_dict_orig[i]\n",
    "    new_crop = new_crop_dict[i]\n",
    "\n",
    "    if i in 18:19\n",
    "        crop = [crop[2], crop[1], crop[3]]\n",
    "    end\n",
    "    \n",
    "    bin_scale = [1.5,1.5,2.7]\n",
    "\n",
    "    crop_start = [first(crop[j]) for j in 1:3]\n",
    "    crop_end = [last(crop[j]) for j in 1:3]\n",
    "\n",
    "    # Calculate the corresponding uncropped region in the resampled image\n",
    "    label_uncropped_start = Int.((crop_start .- new_crop) ./ bin_scale .+ 1)\n",
    "    label_uncropped_end = label_uncropped_start .+ Int.(floor.((crop_end .- crop_start .+ 1) ./ bin_scale)) .- 1\n",
    "\n",
    "    resampled_crop_dict[i] = [label_uncropped_start[j]:label_uncropped_end[j] for j in 1:3]\n",
    "end"
   ]
  },
  {
   "cell_type": "markdown",
   "metadata": {},
   "source": [
    "### Pad images 23 and 29"
   ]
  },
  {
   "cell_type": "code",
   "execution_count": null,
   "metadata": {
    "vscode": {
     "languageId": "julia"
    }
   },
   "outputs": [],
   "source": [
    "function pad_to_square(image::Array{T, 3}) where T\n",
    "    size_x, size_y, size_z = size(image)\n",
    "    \n",
    "    # Determine the median value of the entire image and cast it to the original data type\n",
    "    median_value = T(floor(median(image)))\n",
    "\n",
    "    # Initialize padding amounts\n",
    "    padding_front = (0, 0, 0)\n",
    "    padded_image = image\n",
    "\n",
    "    if size_x < size_y\n",
    "        # Pad along the x-axis\n",
    "        pad_size = size_y - size_x\n",
    "        pad_before = div(pad_size, 2)\n",
    "        pad_after = pad_size - pad_before\n",
    "        padded_image = fill(median_value, size_y, size_y, size_z)\n",
    "        padded_image[pad_before+1:pad_before+size_x, :, :] .= image\n",
    "        padding_front = (pad_before, 0, 0)\n",
    "    elseif size_y < size_x\n",
    "        # Pad along the y-axis\n",
    "        pad_size = size_x - size_y\n",
    "        pad_before = div(pad_size, 2)\n",
    "        pad_after = pad_size - pad_before\n",
    "        padded_image = fill(median_value, size_x, size_x, size_z)\n",
    "        padded_image[:, pad_before+1:pad_before+size_y, :] .= image\n",
    "        padding_front = (0, pad_before, 0)\n",
    "    end\n",
    "\n",
    "    return padded_image, padding_front\n",
    "end\n"
   ]
  },
  {
   "cell_type": "code",
   "execution_count": null,
   "metadata": {
    "vscode": {
     "languageId": "julia"
    }
   },
   "outputs": [],
   "source": [
    "for i in [23, 29]\n",
    "    img = MHDIO.read_img(MHD(joinpath(rootpath, input_raw_dir, \"$(i)_img.mhd\")))\n",
    "    label = NRRDIO.read_img(NRRD(joinpath(rootpath, input_label_dir, \"$(i)_label.nrrd\")))\n",
    "\n",
    "    img, pad1 = pad_to_square(img)\n",
    "    label, pad2 = pad_to_square(label)\n",
    "\n",
    "    println(\"$(i): $(pad1)\")\n",
    "    println(\"$(i): $(pad2)\")\n",
    "\n",
    "\n",
    "    MHDIO.write_raw(joinpath(output_img_dir, \"$(i)_img.raw\"), img)\n",
    "    MHDIO.write_MHD_spec(joinpath(output_img_dir, \"$(i)_img.mhd\"), 0.54, 0.54, size(img)..., \"$(i)_img.raw\")\n",
    "    NRRDIO.write_nrrd(joinpath(output_label_dir, \"$(i)_label.nrrd\"), label, (0.54, 0.54, 0.54))\n",
    "end"
   ]
  }
 ],
 "metadata": {
  "language_info": {
   "name": "python"
  }
 },
 "nbformat": 4,
 "nbformat_minor": 2
}
